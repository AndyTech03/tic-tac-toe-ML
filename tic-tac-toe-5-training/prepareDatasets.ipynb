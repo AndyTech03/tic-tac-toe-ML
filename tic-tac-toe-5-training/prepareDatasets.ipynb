{
 "cells": [
  {
   "cell_type": "code",
   "execution_count": 1,
   "id": "ad788e0f",
   "metadata": {},
   "outputs": [],
   "source": [
    "import os\n",
    "import pickle\n",
    "import numpy as np\n",
    "from numba import prange, njit\n",
    "import importlib\n",
    "import sys\n",
    "import random\n",
    "import threading\n",
    "from multiprocessing import Process"
   ]
  },
  {
   "cell_type": "code",
   "execution_count": 2,
   "id": "1ab00703",
   "metadata": {},
   "outputs": [
    {
     "data": {
      "text/plain": [
       "<module 'GameBoard' from 'c:\\\\Users\\\\akoko\\\\Documents\\\\Codes\\\\tic-tac-toe-ML\\\\tic-tac-toe-5-training\\\\GameBoard.py'>"
      ]
     },
     "execution_count": 2,
     "metadata": {},
     "output_type": "execute_result"
    }
   ],
   "source": [
    "import ModelConfig as mc\n",
    "importlib.reload(mc)\n",
    "import TensorflowModel as tm\n",
    "importlib.reload(tm)\n",
    "import ModelStrategies as ms\n",
    "importlib.reload(ms)\n",
    "import GameBoard as gb\n",
    "importlib.reload(gb)\n"
   ]
  },
  {
   "cell_type": "code",
   "execution_count": 3,
   "id": "4f545feb",
   "metadata": {},
   "outputs": [],
   "source": [
    "# # print train position\n",
    "# data = 4,0,2,8,6,9,3,1,3,4,9,2,[5, 7]\n",
    "# board = [\n",
    "# \t'  ', '  ', '  ',\n",
    "# \t'  ', '  ', '  ',\n",
    "# \t'  ', '  ', '  ',\n",
    "# ]\n",
    "# for i in range(9):\n",
    "# \tindex = i//2 + 1 if i % 2 == 0 else i//2 + 7\n",
    "# \tif (data[index] == 9):\n",
    "# \t\tfor j in data[12]:\n",
    "# \t\t\tboard[j] = '}{' if i % 2 == 0 else '[]'\n",
    "# \telse:\n",
    "# \t\tboard[data[index]] = '><' if i % 2 == 0 else '()'\n",
    "# \tprint(i + 1, 'ход')\n",
    "# \tprint(*board[:3], sep='│')\n",
    "# \tprint('──┼──┼──')\n",
    "# \tprint(*board[3:6], sep='│')\n",
    "# \tprint('──┼──┼──')\n",
    "# \tprint(*board[6:], sep='│')\n",
    "# \tprint()\n",
    "# \tif (data[index] == 9):\n",
    "# \t\tbreak"
   ]
  },
  {
   "cell_type": "code",
   "execution_count": 4,
   "id": "87c7d25d",
   "metadata": {},
   "outputs": [
    {
     "name": "stdout",
     "output_type": "stream",
     "text": [
      "1424 12820\n",
      "2940 26460\n"
     ]
    }
   ],
   "source": [
    "x_dataset = np.genfromtxt('x_train_dataset.csv', delimiter=',', skip_header=1, dtype=np.str_)\n",
    "random.seed(5432)\n",
    "test_len = int(len(x_dataset)*.1)\n",
    "x_dataset = x_dataset.tolist()\n",
    "random.shuffle(x_dataset)\n",
    "x_test_dataset, x_train_dataset = x_dataset[:test_len], x_dataset[test_len:]\n",
    "print(len(x_test_dataset), len(x_train_dataset))\n",
    "\n",
    "o_dataset = np.genfromtxt('o_train_dataset.csv', delimiter=',', skip_header=1, dtype=np.str_)\n",
    "test_len = int(len(o_dataset)*.1)\n",
    "o_dataset = o_dataset.tolist()\n",
    "random.shuffle(o_dataset)\n",
    "o_test_dataset, o_train_dataset = o_dataset[:test_len], o_dataset[test_len:]\n",
    "print(len(o_test_dataset), len(o_train_dataset))"
   ]
  },
  {
   "cell_type": "code",
   "execution_count": 5,
   "id": "fbfa86ef",
   "metadata": {},
   "outputs": [],
   "source": [
    "models = []\n",
    "for i in range(1, 11):\n",
    "\tconfig = mc.ModelConfig(\n",
    "\t\thidden_structure=[1], \n",
    "\t\tinput_strategy_number=i, \n",
    "\t\toutput_strategy_number=1, \n",
    "\t\tuse_bias=True,\n",
    "\t\tuse_attention=False,\n",
    "\t\tmodel_name=f'dataset_{i}'\n",
    "\t)\n",
    "\tt_model = tm.TensorflowModel(config)\n",
    "\tmodels.append(t_model)"
   ]
  },
  {
   "cell_type": "code",
   "execution_count": 6,
   "id": "280671ec",
   "metadata": {},
   "outputs": [],
   "source": [
    "# t_model = tm.TensorflowModel.fromFile('testModel')"
   ]
  },
  {
   "cell_type": "code",
   "execution_count": 7,
   "id": "04d49ca5",
   "metadata": {},
   "outputs": [],
   "source": [
    "def append_train_program(train_dataset, is_x, \n",
    "\t\tx_train_moves, o_train_moves, allowed_train_moves, \n",
    "\t\tcorrect_train_moves, train_as_x):\n",
    "\tcount = len(train_dataset)\n",
    "\tfor i in prange(count):\n",
    "\t\tdata = train_dataset[i]\n",
    "\t\tx_moves = []\n",
    "\t\to_moves = []\n",
    "\t\tallowed_moves = [\n",
    "\t\t\t0, 1, 2,\n",
    "\t\t\t3, 4, 5,\n",
    "\t\t\t6, 7, 8,\n",
    "\t\t]\n",
    "\t\tcorrect_moves = [int(x) for x in data[12].replace('[', '').replace(']', '').split(' ')]\n",
    "\t\tfor x_i in range(int(data[0])):\n",
    "\t\t\tindex = int(data[x_i + 1])\n",
    "\t\t\tx_moves.append(index)\n",
    "\t\tfor o_i in range(int(data[6])):\n",
    "\t\t\tindex = int(data[o_i + 7])\n",
    "\t\t\to_moves.append(index)\n",
    "\t\tboard = gb.GameBoard(x_moves, o_moves, allowed_moves, correct_moves)\n",
    "\t\tx_train_moves.append(board.x_mirrored_moves_array)\n",
    "\t\to_train_moves.append(board.o_mirrored_moves_array)\n",
    "\t\tallowed_train_moves.append(board.allowed_mirrored_moves_array)\n",
    "\t\tcorrect_train_moves.append(board.correct_mirrored_moves_array)\n",
    "\t\ttrain_as_x.append(is_x)\n",
    "\t\t"
   ]
  },
  {
   "cell_type": "code",
   "execution_count": 8,
   "id": "477a0b68",
   "metadata": {},
   "outputs": [
    {
     "name": "stdout",
     "output_type": "stream",
     "text": [
      "4364\n"
     ]
    },
    {
     "name": "stderr",
     "output_type": "stream",
     "text": [
      "c:\\Users\\akoko\\Documents\\Codes\\tic-tac-toe-ML\\tic-tac-toe-5-training\\ModelStrategies.py:39: NumbaTypeSafetyWarning: \u001b[1m\u001b[1m\u001b[1munsafe cast from int64 to int8. Precision may be lost.\u001b[0m\u001b[0m\u001b[0m\n",
      "  inputs[0, i] = 0.99 if i in x_moves else 0.01\n"
     ]
    }
   ],
   "source": [
    "x_train_moves = []\n",
    "o_train_moves = []\n",
    "allowed_train_moves = []\n",
    "correct_train_moves = []\n",
    "train_as_x = []\n",
    "append_train_program(x_train_dataset, True,\n",
    "\t\tx_train_moves, o_train_moves, allowed_train_moves, \n",
    "\t\tcorrect_train_moves, train_as_x)\n",
    "\n",
    "append_train_program(o_train_dataset, False,\n",
    "\t\tx_train_moves, o_train_moves, allowed_train_moves, \n",
    "\t\tcorrect_train_moves, train_as_x)\n",
    "\n",
    "x_test_moves = []\n",
    "o_test_moves = []\n",
    "allowed_test_moves = []\n",
    "correct_test_moves = []\n",
    "test_as_x = []\n",
    "append_train_program(x_test_dataset, True,\n",
    "\t\tx_test_moves, o_test_moves, allowed_test_moves, \n",
    "\t\tcorrect_test_moves, test_as_x)\n",
    "\n",
    "append_train_program(o_test_dataset, False,\n",
    "\t\tx_test_moves, o_test_moves, allowed_test_moves, \n",
    "\t\tcorrect_test_moves, test_as_x)\n",
    "\n",
    "print(len(x_test_moves))\n",
    "\n",
    "for t_model in models:\n",
    "\tx_train, y_train = t_model.getModelDataset(\n",
    "\t\tx_train_moves,\n",
    "\t\to_train_moves,\n",
    "\t\tallowed_train_moves,\n",
    "\t\tcorrect_train_moves,\n",
    "\t\ttrain_as_x\n",
    "\t)\n",
    "\tx_test, y_test = t_model.getModelDataset(\n",
    "\t\tx_test_moves,\n",
    "\t\to_test_moves,\n",
    "\t\tallowed_test_moves,\n",
    "\t\tcorrect_test_moves,\n",
    "\t\ttest_as_x\n",
    "\t)\n",
    "\tstrategy = t_model.config.input_strategy_number\n",
    "\twith open(f'datasets/train_{strategy:02d}.pkl', 'wb') as file:\n",
    "\t\tpickle.dump([x_train, y_train], file)\n",
    "\twith open(f'datasets/test_{strategy:02d}.pkl', 'wb') as file:\n",
    "\t\tpickle.dump([x_test, y_test], file)\n",
    "\n"
   ]
  },
  {
   "cell_type": "code",
   "execution_count": 23,
   "id": "3746cc6f",
   "metadata": {},
   "outputs": [
    {
     "name": "stdout",
     "output_type": "stream",
     "text": [
      "[0.01 0.01 0.01 0.99 0.01 0.99 0.01 0.99 0.01 0.01 0.99 0.01 0.01 0.99\n",
      " 0.01 0.99 0.01 0.01 0.99]\n",
      "[0.01 0.01 0.01]\n",
      "[0.99 0.01 0.99]\n",
      "[0.01 0.99 0.01]\n",
      "\n",
      "[0.01 0.99 0.01]\n",
      "[0.01 0.99 0.01]\n",
      "[0.99 0.01 0.01 0.99]\n",
      "\n",
      "[0.33 0.33 0.99 0.33 0.33 0.33 0.33 0.33 0.33]\n",
      "[0.33 0.33 0.99]\n",
      "[0.33 0.33 0.33]\n",
      "[0.33 0.33 0.33]\n",
      "  │()│}{\n",
      "──┼──┼──\n",
      "><│()│><\n",
      "──┼──┼──\n",
      "()│><│  \n",
      "\n"
     ]
    }
   ],
   "source": [
    "with open(f'datasets/train_01.pkl', 'rb') as file:\n",
    "\tx_train, y_train = pickle.load(file)\n",
    "\tboard = [\n",
    "\t\t'  ', '  ', '  ',\n",
    "\t\t'  ', '  ', '  ',\n",
    "\t\t'  ', '  ', '  ',\n",
    "\t]\n",
    "\ttrain_index = 1\n",
    "\tinputs = x_train[train_index]\n",
    "\toutputs = y_train[train_index]\n",
    "\tprint(inputs)\n",
    "\tprint(inputs[:3])\n",
    "\tprint(inputs[3:6])\n",
    "\tprint(inputs[6:9])\n",
    "\tprint()\n",
    "\tprint(inputs[9:12])\n",
    "\tprint(inputs[12:15])\n",
    "\tprint(inputs[15:])\n",
    "\tprint()\n",
    "\tprint(outputs)\n",
    "\tprint(outputs[:3])\n",
    "\tprint(outputs[3:6])\n",
    "\tprint(outputs[6:9])\n",
    "\tindex = 0\n",
    "\tcounter = 0\n",
    "\tfor i in inputs[:9]:\n",
    "\t\tif (i == .99):\n",
    "\t\t\tboard[index] = '><'\n",
    "\t\t\tcounter += 1 \n",
    "\t\tindex += 1\n",
    "\tindex = 0\n",
    "\tfor i in inputs[9:18]:\n",
    "\t\tif (i == .99):\n",
    "\t\t\tboard[index] = '()'\n",
    "\t\t\tcounter += 1 \n",
    "\t\tindex += 1\n",
    "\tis_x = inputs[18] == .99\n",
    "\tindex = 0\n",
    "\tfor i in outputs:\n",
    "\t\tif (i == .99):\n",
    "\t\t\tboard[index] = '}{' if is_x else '[]'\n",
    "\t\tindex += 1\n",
    "\n",
    "\tprint(*board[:3], sep='│')\n",
    "\tprint('──┼──┼──')\n",
    "\tprint(*board[3:6], sep='│')\n",
    "\tprint('──┼──┼──')\n",
    "\tprint(*board[6:], sep='│')\n",
    "\tprint()"
   ]
  }
 ],
 "metadata": {
  "kernelspec": {
   "display_name": "tensorflow_env",
   "language": "python",
   "name": "python3"
  },
  "language_info": {
   "codemirror_mode": {
    "name": "ipython",
    "version": 3
   },
   "file_extension": ".py",
   "mimetype": "text/x-python",
   "name": "python",
   "nbconvert_exporter": "python",
   "pygments_lexer": "ipython3",
   "version": "3.9.10"
  }
 },
 "nbformat": 4,
 "nbformat_minor": 5
}
