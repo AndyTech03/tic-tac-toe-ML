{
 "cells": [
  {
   "cell_type": "code",
   "execution_count": 14,
   "id": "92ff0a2d",
   "metadata": {},
   "outputs": [],
   "source": [
    "import os\n",
    "import pickle\n",
    "import numpy as np\n",
    "from numba import prange, njit\n",
    "import importlib\n",
    "import sys"
   ]
  },
  {
   "cell_type": "code",
   "execution_count": 20,
   "id": "08ee22b9",
   "metadata": {},
   "outputs": [
    {
     "name": "stdout",
     "output_type": "stream",
     "text": [
      "1 ход\n",
      "><│  │  \n",
      "──┼──┼──\n",
      "  │  │  \n",
      "──┼──┼──\n",
      "  │  │  \n",
      "\n",
      "2 ход\n",
      "><│()│  \n",
      "──┼──┼──\n",
      "  │  │  \n",
      "──┼──┼──\n",
      "  │  │  \n",
      "\n",
      "3 ход\n",
      "><│()│><\n",
      "──┼──┼──\n",
      "  │  │  \n",
      "──┼──┼──\n",
      "  │  │  \n",
      "\n",
      "4 ход\n",
      "><│()│><\n",
      "──┼──┼──\n",
      "()│  │  \n",
      "──┼──┼──\n",
      "  │  │  \n",
      "\n",
      "5 ход\n",
      "><│()│><\n",
      "──┼──┼──\n",
      "()│  │  \n",
      "──┼──┼──\n",
      "  │  │><\n",
      "\n",
      "6 ход\n",
      "><│()│><\n",
      "──┼──┼──\n",
      "()│()│  \n",
      "──┼──┼──\n",
      "  │  │><\n",
      "\n",
      "7 ход\n",
      "><│()│><\n",
      "──┼──┼──\n",
      "()│()│  \n",
      "──┼──┼──\n",
      "><│  │><\n",
      "\n",
      "8 ход\n",
      "><│()│><\n",
      "──┼──┼──\n",
      "()│()│[]\n",
      "──┼──┼──\n",
      "><│[]│><\n",
      "\n"
     ]
    }
   ],
   "source": [
    "# print train position\n",
    "data = 4,0,2,8,6,9,3,1,3,4,9,2,[5, 7]\n",
    "board = [\n",
    "\t'  ', '  ', '  ',\n",
    "\t'  ', '  ', '  ',\n",
    "\t'  ', '  ', '  ',\n",
    "]\n",
    "for i in range(9):\n",
    "\tindex = i//2 + 1 if i % 2 == 0 else i//2 + 7\n",
    "\tif (data[index] == 9):\n",
    "\t\tfor j in data[12]:\n",
    "\t\t\tboard[j] = '}{' if i % 2 == 0 else '[]'\n",
    "\telse:\n",
    "\t\tboard[data[index]] = '><' if i % 2 == 0 else '()'\n",
    "\tprint(i + 1, 'ход')\n",
    "\tprint(*board[:3], sep='│')\n",
    "\tprint('──┼──┼──')\n",
    "\tprint(*board[3:6], sep='│')\n",
    "\tprint('──┼──┼──')\n",
    "\tprint(*board[6:], sep='│')\n",
    "\tprint()\n",
    "\tif (data[index] == 9):\n",
    "\t\tbreak\n",
    "\n"
   ]
  },
  {
   "cell_type": "code",
   "execution_count": 18,
   "id": "d4debb2a",
   "metadata": {},
   "outputs": [
    {
     "data": {
      "text/plain": [
       "<module 'utils' from 'c:\\\\Users\\\\akoko\\\\Documents\\\\Codes\\\\tic-tac-toe-ML\\\\tic-tac-toe-4-datasets\\\\utils.py'>"
      ]
     },
     "execution_count": 18,
     "metadata": {},
     "output_type": "execute_result"
    }
   ],
   "source": [
    "import utils as utils\n",
    "importlib.reload(utils)"
   ]
  },
  {
   "cell_type": "code",
   "execution_count": 25,
   "id": "f388e9b2",
   "metadata": {},
   "outputs": [
    {
     "name": "stdout",
     "output_type": "stream",
     "text": [
      "x o b\n",
      "b b o\n",
      "x b b\n",
      "\n",
      "[6 8] [3 1]\n",
      "2,6,8,9,9,9,2,3,1,9,9\n",
      "\n",
      "b o b \n",
      "o b b \n",
      "x b x \n",
      "\n"
     ]
    }
   ],
   "source": [
    "position = '''x\to\t\n",
    "\t\to\n",
    "x\t\t\n",
    "'''.strip('\\n')\n",
    "positions = [[char if char != '' else 'b' for char in row.split('\\t')] for row in position.split('\\n')]\n",
    "x_moves = []\n",
    "o_moves = []\n",
    "i = 0\n",
    "for row in positions:\n",
    "\tfor char in row:\n",
    "\t\tif char == 'x':\n",
    "\t\t\tx_moves.append(i)\n",
    "\t\telif char == 'o':\n",
    "\t\t\to_moves.append(i)\n",
    "\t\ti += 1\n",
    "\tprint(*row)\n",
    "print()\n",
    "b = utils.GameBoard(x_moves, o_moves)\n",
    "print(b.x_mirrored_moves_array, b.o_mirrored_moves_array)\n",
    "print(b.get_mirrored_csv_line())\n",
    "utils.GameBoard.print(b.x_mirrored_moves_array, b.o_mirrored_moves_array)"
   ]
  }
 ],
 "metadata": {
  "kernelspec": {
   "display_name": "tensorflow_env",
   "language": "python",
   "name": "python3"
  },
  "language_info": {
   "codemirror_mode": {
    "name": "ipython",
    "version": 3
   },
   "file_extension": ".py",
   "mimetype": "text/x-python",
   "name": "python",
   "nbconvert_exporter": "python",
   "pygments_lexer": "ipython3",
   "version": "3.9.10"
  }
 },
 "nbformat": 4,
 "nbformat_minor": 5
}
